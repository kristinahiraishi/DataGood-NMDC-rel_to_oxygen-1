{
 "cells": [
  {
   "cell_type": "code",
   "execution_count": 3,
   "id": "a07f5aa0",
   "metadata": {},
   "outputs": [],
   "source": [
    "import pandas as pd\n",
    "import numpy as np\n",
    "import seaborn as sns\n",
    "import sqlalchemy\n",
    "from pathlib import Path\n",
    "\n",
    "plt.style.use('fivethirtyeight')\n",
    "sns.set()\n",
    "sns.set_context(\"talk\")\n",
    "\n",
    "pd.set_option('display.max_rows', 20)\n",
    "\n",
    "# Setup - Load the SQL extension and connect to the Mini IMDB dataset we've prepared\n",
    "db_path = Path('data/biosample_basex_data_good_subset.db')\n",
    "\n",
    "engine = sqlalchemy.create_engine(f\"sqlite:///{db_path}\")\n",
    "connection = engine.connect()\n",
    "inspector = sqlalchemy.inspect(engine)\n",
    "\n",
    "query_name = \"\"\"\n",
    "SELECT *\n",
    "FROM harmonized_wide_sel_envs\n",
    "\"\"\"\n",
    "harmonized_wide_sel_envs_df = pd.read_sql(query_name, engine)"
   ]
  },
  {
   "cell_type": "markdown",
   "id": "b1038976-d96e-4128-a3ed-9e347c9bc950",
   "metadata": {},
   "source": [
    "# Rel_To_Oxygen Column"
   ]
  },
  {
   "cell_type": "code",
   "execution_count": 4,
   "id": "13789e71-4dca-4cbf-bf68-9883fba0ae1f",
   "metadata": {},
   "outputs": [
    {
     "name": "stderr",
     "output_type": "stream",
     "text": [
      "/var/folders/n3/1fkcc8k16xngc_7msj_bcd880000gn/T/ipykernel_76049/64733453.py:17: UserWarning: This pattern has match groups. To actually get the groups, use str.extract.\n",
      "  harmonized_wide_sel_envs_df.loc[harmonized_wide_sel_envs_df['rel_to_oxygen_rep'].str.contains(aerobe_pattern, regex=True), 'rel_to_oxygen_rep'] = 'aerobe'\n",
      "/var/folders/n3/1fkcc8k16xngc_7msj_bcd880000gn/T/ipykernel_76049/64733453.py:18: UserWarning: This pattern has match groups. To actually get the groups, use str.extract.\n",
      "  harmonized_wide_sel_envs_df.loc[harmonized_wide_sel_envs_df['rel_to_oxygen_rep'].str.contains(anaerobe_pattern, regex=True), 'rel_to_oxygen_rep'] = 'anaerobe'\n",
      "/var/folders/n3/1fkcc8k16xngc_7msj_bcd880000gn/T/ipykernel_76049/64733453.py:19: UserWarning: This pattern has match groups. To actually get the groups, use str.extract.\n",
      "  harmonized_wide_sel_envs_df.loc[harmonized_wide_sel_envs_df['rel_to_oxygen_rep'].str.contains(facultative_pattern, regex=True), 'rel_to_oxygen_rep'] = 'facultative'\n"
     ]
    }
   ],
   "source": [
    "aerobe_pattern = \"^[Aa]erob(ic)*(-){0}\"\n",
    "anaerobe_pattern = \"^(anaero)\"\n",
    "facultative_pattern = \"^(facultative)\"\n",
    "microaerophilic_pattern = \"microaerophilic\" #microaerophilic already looks clean\n",
    "microanaerobe_pattern = \"microanaerobe\" #None microanaerobe ?\n",
    "obligate_aerobe_pattern = \"obligate aerobe\" #None obligate aerobe ?\n",
    "obligate_anaerobe_pattern = \"^obligate anaerobe\" #already looks clean\n",
    "\n",
    "proper_values = [\"aerobe\", \"anaerobe\", \"facultative\", \"microaerophilic\", \"microanaerobe\", \"obligate aerobe\", \"obligate anaerobe\"]\n",
    "\n",
    "harmonized_wide_sel_envs_df['rel_to_oxygen_rep'] = harmonized_wide_sel_envs_df['rel_to_oxygen'].astype(str)\n",
    "harmonized_wide_sel_envs_df['rel_to_oxygen_rep_status'] = (harmonized_wide_sel_envs_df['rel_to_oxygen_rep'].isin(proper_values) == False) & (harmonized_wide_sel_envs_df['rel_to_oxygen_rep'] != \"None\")\n",
    "\n",
    "harmonized_wide_sel_envs_df['rel_to_oxygen_rep_status'] = harmonized_wide_sel_envs_df['rel_to_oxygen_rep_status'].replace(to_replace = False, value=\"Unchanged\")\n",
    "harmonized_wide_sel_envs_df['rel_to_oxygen_rep_status'] = harmonized_wide_sel_envs_df['rel_to_oxygen_rep_status'].replace(to_replace = True, value=\"Repaired\") \n",
    "\n",
    "harmonized_wide_sel_envs_df.loc[harmonized_wide_sel_envs_df['rel_to_oxygen_rep'].str.contains(aerobe_pattern, regex=True), 'rel_to_oxygen_rep'] = 'aerobe'\n",
    "harmonized_wide_sel_envs_df.loc[harmonized_wide_sel_envs_df['rel_to_oxygen_rep'].str.contains(anaerobe_pattern, regex=True), 'rel_to_oxygen_rep'] = 'anaerobe'\n",
    "harmonized_wide_sel_envs_df.loc[harmonized_wide_sel_envs_df['rel_to_oxygen_rep'].str.contains(facultative_pattern, regex=True), 'rel_to_oxygen_rep'] = 'facultative'\n",
    "harmonized_wide_sel_envs_df.loc[harmonized_wide_sel_envs_df['rel_to_oxygen_rep'].str.contains(microaerophilic_pattern, regex=True), 'rel_to_oxygen_rep'] = 'microaerophilic'\n",
    "harmonized_wide_sel_envs_df.loc[harmonized_wide_sel_envs_df['rel_to_oxygen_rep'].str.contains(microanaerobe_pattern, regex=True), 'rel_to_oxygen_rep'] = 'microanaerobe'\n",
    "harmonized_wide_sel_envs_df.loc[harmonized_wide_sel_envs_df['rel_to_oxygen_rep'].str.contains(obligate_aerobe_pattern, regex=True), 'rel_to_oxygen_rep'] = 'obligate aerobe'\n",
    "harmonized_wide_sel_envs_df.loc[harmonized_wide_sel_envs_df['rel_to_oxygen_rep'].str.contains(obligate_anaerobe_pattern, regex=True), 'rel_to_oxygen_rep'] = 'obligate anaerobe'\n",
    "\n",
    "#harmonized_wide_sel_envs_df.loc[~df[\"rel_to_oxygen_rep\"].isin(proper_values), \"rel_to_oxygen_rep\"] = None\n",
    "harmonized_wide_sel_envs_df['rel_to_oxygen_rep'] = np.where(harmonized_wide_sel_envs_df['rel_to_oxygen_rep'].isin(proper_values), harmonized_wide_sel_envs_df['rel_to_oxygen_rep'], None)"
   ]
  },
  {
   "cell_type": "markdown",
   "id": "71a28269-36cd-424e-90b5-4a1cfe777082",
   "metadata": {
    "tags": []
   },
   "source": [
    "# Air_Temp Column"
   ]
  },
  {
   "cell_type": "markdown",
   "id": "bd9c2f35-8cf0-4224-b74c-57c55685759e",
   "metadata": {},
   "source": [
    "We've assumed that all of the columns are in degrees Celsius, which is why we removed the degrees from those that did have them and add them back in so all of the values are in degrees Celsius"
   ]
  },
  {
   "cell_type": "code",
   "execution_count": 5,
   "id": "868f3c89-da84-4948-a8ef-af57671abb65",
   "metadata": {},
   "outputs": [],
   "source": [
    "harmonized_wide_sel_envs_df['air_temp_rep'] = harmonized_wide_sel_envs_df['air_temp'].str.replace(\" degree Celsius\", \"\")\n",
    "harmonized_wide_sel_envs_df['air_temp_rep'] = harmonized_wide_sel_envs_df['air_temp'] + \" degree Celsius\"\n",
    "harmonized_wide_sel_envs_df['air_temp_rep_status'] = harmonized_wide_sel_envs_df['air_temp']"
   ]
  },
  {
   "cell_type": "code",
   "execution_count": 6,
   "id": "1c938af1",
   "metadata": {
    "scrolled": true
   },
   "outputs": [
    {
     "name": "stdout",
     "output_type": "stream",
     "text": [
      "rel_to_oxygen_rep Value Counts: \n"
     ]
    },
    {
     "data": {
      "text/plain": [
       "aerobe               3979\n",
       "obligate anaerobe      66\n",
       "anaerobe               47\n",
       "facultative            23\n",
       "microaerophilic        11\n",
       "Name: rel_to_oxygen_rep, dtype: int64"
      ]
     },
     "metadata": {},
     "output_type": "display_data"
    },
    {
     "name": "stdout",
     "output_type": "stream",
     "text": [
      "air_temp Value Counts: \n"
     ]
    },
    {
     "data": {
      "text/plain": [
       "-1.9 degree Celsius     12\n",
       "-1 degree Celsius       12\n",
       "-3.3 degree Celsius     11\n",
       "-10.8 degree Celsius    11\n",
       "-7.1 degree Celsius     11\n",
       "                        ..\n",
       "35.2                     1\n",
       "30.3                     1\n",
       "28.7                     1\n",
       "38.5                     1\n",
       "29                       1\n",
       "Name: air_temp, Length: 51, dtype: int64"
      ]
     },
     "metadata": {},
     "output_type": "display_data"
    },
    {
     "name": "stdout",
     "output_type": "stream",
     "text": [
      "air_temp Unique Values: \n"
     ]
    },
    {
     "data": {
      "text/plain": [
       "array([None, '-10.3 degree Celsius', '-11.6 degree Celsius',\n",
       "       '-10.5 degree Celsius', '-9.7 degree Celsius',\n",
       "       '-12.6 degree Celsius', '-13.1 degree Celsius',\n",
       "       '-14 degree Celsius', '-11.9 degree Celsius',\n",
       "       '-10.8 degree Celsius', '-8.6 degree Celsius',\n",
       "       '-7.7 degree Celsius', '-4.5 degree Celsius',\n",
       "       '-3.8 degree Celsius', '-2.1 degree Celsius',\n",
       "       '-1.4 degree Celsius', '-3.3 degree Celsius',\n",
       "       '-5.8 degree Celsius', '-7.1 degree Celsius', '-16 degree Celsius',\n",
       "       '-14.2 degree Celsius', '-6 degree Celsius', '-3.9 degree Celsius',\n",
       "       '-1 degree Celsius', '-0.82 degree Celsius', '-4.9 degree Celsius',\n",
       "       '-2.8 degree Celsius', '-1.6 degree Celsius',\n",
       "       '-14.9 degree Celsius', '-1.9 degree Celsius',\n",
       "       '-6.6 degree Celsius', '-5.5 degree Celsius',\n",
       "       '-2.4 degree Celsius', '-0.9 degree Celsius',\n",
       "       '-1.2 degree Celsius', '-1.8 degree Celsius',\n",
       "       '-4.3 degree Celsius', '-5.1 degree Celsius', '-9 degree Celsius',\n",
       "       '-4.7 degree Celsius', '3.5 degree Celsius', '19.5', '27.8',\n",
       "       '24.9', '26.2', '24.6', '35.2', '30.3', '30.6', '28.7', '38.5',\n",
       "       '29'], dtype=object)"
      ]
     },
     "metadata": {},
     "output_type": "display_data"
    }
   ],
   "source": [
    "print(\"rel_to_oxygen_rep Value Counts: \")\n",
    "display(harmonized_wide_sel_envs_df['rel_to_oxygen_rep'].value_counts())\n",
    "print(\"air_temp Value Counts: \")\n",
    "display(harmonized_wide_sel_envs_df['air_temp'].value_counts())\n",
    "print(\"air_temp Unique Values: \")\n",
    "display(harmonized_wide_sel_envs_df['air_temp'].unique())"
   ]
  },
  {
   "cell_type": "markdown",
   "id": "e85ddd90",
   "metadata": {},
   "source": [
    "# Depth Column"
   ]
  },
  {
   "cell_type": "markdown",
   "id": "ede8ed25",
   "metadata": {},
   "source": [
    "Depth value syntax should be {float} {unit}. preferred unit is meter"
   ]
  },
  {
   "cell_type": "markdown",
   "id": "bdb5c9b4",
   "metadata": {},
   "source": [
    "Example: 10 meters"
   ]
  },
  {
   "cell_type": "code",
   "execution_count": 7,
   "id": "c71caad4",
   "metadata": {
    "scrolled": true
   },
   "outputs": [],
   "source": [
    "#regex:=\n",
    "mmRegex = r\"mm\"\n",
    "cmRegex = r\"(cm)|(centimeter)\"\n",
    "feetRegex = r\"feet|ft\"\n",
    "missingRegex = r\".*([Mm]issing).*|.*([Nn]one).*|.*(not).*|.*(N/*A).*\"\n",
    "surfaceRegex = r\".*[Ss]urface.*\"\n",
    "dateRegex = r\"[0-9][-][A-Za-z]{2,}\"\n",
    "mixedRegex = r\".*mixed.*\"\n",
    "topsoilRegex = r\".*[Tt]op( )*soil.*\""
   ]
  },
  {
   "cell_type": "code",
   "execution_count": 8,
   "id": "80021826",
   "metadata": {},
   "outputs": [
    {
     "data": {
      "text/plain": [
       "3868    2-Jan\n",
       "3869    3-Feb\n",
       "3870    4-Mar\n",
       "3872    2-Jan\n",
       "3873    3-Feb\n",
       "        ...  \n",
       "4145    3-Feb\n",
       "4146    4-Mar\n",
       "4148    2-Jan\n",
       "4149    3-Feb\n",
       "4150    4-Mar\n",
       "Name: depth, Length: 213, dtype: object"
      ]
     },
     "execution_count": 8,
     "metadata": {},
     "output_type": "execute_result"
    }
   ],
   "source": [
    "harmonized_wide_sel_envs_df[harmonized_wide_sel_envs_df[\"depth\"].str.contains(dateRegex) == True]['depth']"
   ]
  },
  {
   "cell_type": "code",
   "execution_count": 9,
   "id": "9bfdf388",
   "metadata": {},
   "outputs": [
    {
     "name": "stderr",
     "output_type": "stream",
     "text": [
      "/var/folders/n3/1fkcc8k16xngc_7msj_bcd880000gn/T/ipykernel_76049/574580676.py:1: UserWarning: This pattern has match groups. To actually get the groups, use str.extract.\n",
      "  harmonized_wide_sel_envs_df[harmonized_wide_sel_envs_df[\"depth\"].str.contains(missingRegex) == True]['depth']\n"
     ]
    },
    {
     "data": {
      "text/plain": [
       "257           missing\n",
       "258           missing\n",
       "259           missing\n",
       "260           missing\n",
       "261           missing\n",
       "             ...     \n",
       "46162    not provided\n",
       "46168    not provided\n",
       "46170    not provided\n",
       "46200    not provided\n",
       "47507    not provided\n",
       "Name: depth, Length: 305, dtype: object"
      ]
     },
     "execution_count": 9,
     "metadata": {},
     "output_type": "execute_result"
    }
   ],
   "source": [
    "harmonized_wide_sel_envs_df[harmonized_wide_sel_envs_df[\"depth\"].str.contains(missingRegex) == True]['depth']"
   ]
  },
  {
   "cell_type": "markdown",
   "id": "6e6c658a",
   "metadata": {},
   "source": [
    "Reformat all values that are considered missing as \"Missing\""
   ]
  },
  {
   "cell_type": "code",
   "execution_count": 10,
   "id": "24f152df",
   "metadata": {},
   "outputs": [
    {
     "name": "stderr",
     "output_type": "stream",
     "text": [
      "/var/folders/n3/1fkcc8k16xngc_7msj_bcd880000gn/T/ipykernel_76049/2360023668.py:1: FutureWarning: The default value of regex will change from True to False in a future version.\n",
      "  harmonized_wide_sel_envs_df[\"depth\"] = harmonized_wide_sel_envs_df[\"depth\"].str.replace(missingRegex, \"Missing\")\n",
      "/var/folders/n3/1fkcc8k16xngc_7msj_bcd880000gn/T/ipykernel_76049/2360023668.py:2: FutureWarning: The default value of regex will change from True to False in a future version.\n",
      "  harmonized_wide_sel_envs_df[\"depth\"] = harmonized_wide_sel_envs_df[\"depth\"].str.replace(mixedRegex, \"Missing\")\n",
      "/var/folders/n3/1fkcc8k16xngc_7msj_bcd880000gn/T/ipykernel_76049/2360023668.py:3: FutureWarning: The default value of regex will change from True to False in a future version.\n",
      "  harmonized_wide_sel_envs_df[\"depth\"] = harmonized_wide_sel_envs_df[\"depth\"].str.replace(dateRegex, \"Missing\")\n",
      "/var/folders/n3/1fkcc8k16xngc_7msj_bcd880000gn/T/ipykernel_76049/2360023668.py:5: UserWarning: This pattern has match groups. To actually get the groups, use str.extract.\n",
      "  harmonized_wide_sel_envs_df[harmonized_wide_sel_envs_df[\"depth\"].str.contains(missingRegex) == True]['depth']\n"
     ]
    },
    {
     "data": {
      "text/plain": [
       "257      Missing\n",
       "258      Missing\n",
       "259      Missing\n",
       "260      Missing\n",
       "261      Missing\n",
       "          ...   \n",
       "46162    Missing\n",
       "46168    Missing\n",
       "46170    Missing\n",
       "46200    Missing\n",
       "47507    Missing\n",
       "Name: depth, Length: 575, dtype: object"
      ]
     },
     "execution_count": 10,
     "metadata": {},
     "output_type": "execute_result"
    }
   ],
   "source": [
    "harmonized_wide_sel_envs_df[\"depth\"] = harmonized_wide_sel_envs_df[\"depth\"].str.replace(missingRegex, \"Missing\")\n",
    "harmonized_wide_sel_envs_df[\"depth\"] = harmonized_wide_sel_envs_df[\"depth\"].str.replace(mixedRegex, \"Missing\")\n",
    "harmonized_wide_sel_envs_df[\"depth\"] = harmonized_wide_sel_envs_df[\"depth\"].str.replace(dateRegex, \"Missing\")\n",
    "\n",
    "harmonized_wide_sel_envs_df[harmonized_wide_sel_envs_df[\"depth\"].str.contains(missingRegex) == True]['depth']"
   ]
  },
  {
   "cell_type": "code",
   "execution_count": 11,
   "id": "567b3fb4",
   "metadata": {
    "scrolled": true
   },
   "outputs": [],
   "source": [
    "#harmonized_wide_sel_envs_df[harmonized_wide_sel_envs_df[\"depth\"].str.contains(\"0 m\") == True]['depth']"
   ]
  },
  {
   "cell_type": "code",
   "execution_count": 12,
   "id": "8e6261f5",
   "metadata": {},
   "outputs": [],
   "source": [
    "#harmonized_wide_sel_envs_df[harmonized_wide_sel_envs_df[\"depth\"].str.contains(surfaceRegex) == True]['depth']"
   ]
  },
  {
   "cell_type": "markdown",
   "id": "82371ec0",
   "metadata": {},
   "source": [
    "Replace strings containing \"surface\" with \"0 m\""
   ]
  },
  {
   "cell_type": "code",
   "execution_count": 13,
   "id": "5641d819",
   "metadata": {},
   "outputs": [
    {
     "data": {
      "text/plain": [
       "Series([], Name: depth, dtype: object)"
      ]
     },
     "execution_count": 13,
     "metadata": {},
     "output_type": "execute_result"
    }
   ],
   "source": [
    "harmonized_wide_sel_envs_df[\"depth\"] = harmonized_wide_sel_envs_df[\"depth\"].str.replace(surfaceRegex, \"0 m\", regex=True)\n",
    "\n",
    "harmonized_wide_sel_envs_df[harmonized_wide_sel_envs_df[\"depth\"].str.contains(surfaceRegex) == True]['depth']"
   ]
  },
  {
   "cell_type": "code",
   "execution_count": 14,
   "id": "6680efca",
   "metadata": {
    "scrolled": true
   },
   "outputs": [],
   "source": [
    "#harmonized_wide_sel_envs_df[harmonized_wide_sel_envs_df[\"depth\"].str.contains(\"0 m\") == True]['depth'].value_counts()"
   ]
  },
  {
   "cell_type": "code",
   "execution_count": 15,
   "id": "401d1c01",
   "metadata": {},
   "outputs": [
    {
     "data": {
      "text/plain": [
       "Series([], Name: depth, dtype: int64)"
      ]
     },
     "execution_count": 15,
     "metadata": {},
     "output_type": "execute_result"
    }
   ],
   "source": [
    "harmonized_wide_sel_envs_df[\"depth\"] = harmonized_wide_sel_envs_df[\"depth\"].str.replace(mixedRegex, \"Missing\", regex=True)\n",
    "harmonized_wide_sel_envs_df[harmonized_wide_sel_envs_df[\"depth\"].str.contains(mixedRegex) == True]['depth'].value_counts()"
   ]
  },
  {
   "cell_type": "code",
   "execution_count": 16,
   "id": "504d6b5d",
   "metadata": {
    "scrolled": true
   },
   "outputs": [
    {
     "name": "stderr",
     "output_type": "stream",
     "text": [
      "/var/folders/n3/1fkcc8k16xngc_7msj_bcd880000gn/T/ipykernel_76049/3253176172.py:1: UserWarning: This pattern has match groups. To actually get the groups, use str.extract.\n",
      "  harmonized_wide_sel_envs_df[harmonized_wide_sel_envs_df[\"depth\"].str.contains(topsoilRegex) == True]['depth']\n"
     ]
    },
    {
     "data": {
      "text/plain": [
       "2299    top soil\n",
       "3236    top soil\n",
       "5492     topsoil\n",
       "5493     topsoil\n",
       "5494     topsoil\n",
       "          ...   \n",
       "8241    top soil\n",
       "8242    top soil\n",
       "8243    top soil\n",
       "8244    top soil\n",
       "8245    top soil\n",
       "Name: depth, Length: 148, dtype: object"
      ]
     },
     "execution_count": 16,
     "metadata": {},
     "output_type": "execute_result"
    }
   ],
   "source": [
    "harmonized_wide_sel_envs_df[harmonized_wide_sel_envs_df[\"depth\"].str.contains(topsoilRegex) == True]['depth']"
   ]
  },
  {
   "cell_type": "markdown",
   "id": "1f27ca82",
   "metadata": {},
   "source": [
    "Replace strings containing \"top soil\" with \"0-0.1 m\""
   ]
  },
  {
   "cell_type": "code",
   "execution_count": 17,
   "id": "75ad9be0",
   "metadata": {},
   "outputs": [],
   "source": [
    "harmonized_wide_sel_envs_df[\"depth\"] = harmonized_wide_sel_envs_df[\"depth\"].str.replace(topsoilRegex, \"0-0.1 m\", regex=True)"
   ]
  },
  {
   "cell_type": "markdown",
   "id": "05272a6b",
   "metadata": {},
   "source": [
    "Replace \"Meters\" with \"m\""
   ]
  },
  {
   "cell_type": "code",
   "execution_count": 18,
   "id": "65664683",
   "metadata": {},
   "outputs": [],
   "source": [
    "harmonized_wide_sel_envs_df[\"depth\"] = harmonized_wide_sel_envs_df[\"depth\"].str.replace(\"[Mm]eter[s]\", \"m\", regex=True)"
   ]
  },
  {
   "cell_type": "code",
   "execution_count": 19,
   "id": "e763e5e9-6eaa-4a3c-a2fb-14ab6d3e8fef",
   "metadata": {},
   "outputs": [
    {
     "data": {
      "text/plain": [
       "7715    6-12 ft\n",
       "7716    6-12 ft\n",
       "7717    6-12 ft\n",
       "7718    6-12 ft\n",
       "7719    6-12 ft\n",
       "7720    6-12 ft\n",
       "7721    6-12 ft\n",
       "7722    6-12 ft\n",
       "Name: depth, dtype: object"
      ]
     },
     "execution_count": 19,
     "metadata": {},
     "output_type": "execute_result"
    }
   ],
   "source": [
    "harmonized_wide_sel_envs_df['depth_rep'] = harmonized_wide_sel_envs_df['depth'].astype(str).astype('string')\n",
    "harmonized_wide_sel_envs_df['depth_status'] = None\n",
    "harmonized_wide_sel_envs_df['depth_rep'] = harmonized_wide_sel_envs_df['depth_rep'].replace({'top soil' : '0.05-0.2', 'surface': '0'})\n",
    "\n",
    "harmonized_wide_sel_envs_df['depth_rep'] = harmonized_wide_sel_envs_df['depth_rep'].replace\n",
    "#harmonized_wide_sel_envs_df[harmonized_wide_sel_envs_df[\"depth\"].str.contains(r\"centimeter\", regex=True) == True]['depth'].str.extractall(r\"(\\d)\")[0].values.intger()*0.01\n",
    "harmonized_wide_sel_envs_df[harmonized_wide_sel_envs_df[\"depth\"].str.contains(r\"cm\", regex=True) == True]['depth']\n",
    "harmonized_wide_sel_envs_df[harmonized_wide_sel_envs_df[\"depth\"].str.contains(r\"feet\", regex=True) == True]['depth']\n",
    "harmonized_wide_sel_envs_df[harmonized_wide_sel_envs_df[\"depth\"].str.contains(r\"ft\", regex=True) == True]['depth']\n",
    "\n",
    "harmonized_wide_sel_envs_df[harmonized_wide_sel_envs_df[\"depth\"].str.contains(r\"Dates\", regex=True) == True]['depth'] \n",
    "harmonized_wide_sel_envs_df[harmonized_wide_sel_envs_df[\"depth\"].str.contains(r\"not\", regex=True) == True]['depth']\n",
    "harmonized_wide_sel_envs_df[harmonized_wide_sel_envs_df[\"depth\"].str.contains(r\"ft\", regex=True) == True]['depth']\n",
    "#extract the integers or floats from the strings, \n",
    "#turn them into floats, convert them, and then put them back in string form"
   ]
  },
  {
   "cell_type": "code",
   "execution_count": null,
   "id": "ec649db5-88ee-4527-be2e-036e0b66f9ce",
   "metadata": {},
   "outputs": [],
   "source": []
  }
 ],
 "metadata": {
  "kernelspec": {
   "display_name": "Python 3 (ipykernel)",
   "language": "python",
   "name": "python3"
  },
  "language_info": {
   "codemirror_mode": {
    "name": "ipython",
    "version": 3
   },
   "file_extension": ".py",
   "mimetype": "text/x-python",
   "name": "python",
   "nbconvert_exporter": "python",
   "pygments_lexer": "ipython3",
   "version": "3.9.7"
  }
 },
 "nbformat": 4,
 "nbformat_minor": 5
}
