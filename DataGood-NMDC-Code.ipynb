{
 "cells": [
  {
   "cell_type": "code",
   "execution_count": 1,
   "id": "a07f5aa0",
   "metadata": {},
   "outputs": [
    {
     "name": "stderr",
     "output_type": "stream",
     "text": [
      "/var/folders/vx/5_3c8hlx4ysbsf6gq_jw_gc80000gn/T/ipykernel_31113/3674963623.py:44: UserWarning: This pattern has match groups. To actually get the groups, use str.extract.\n",
      "  harmonized_wide_sel_envs_df.loc[harmonized_wide_sel_envs_df['rel_to_oxygen_rep'].str.contains(aerobe_pattern, regex=True), 'rel_to_oxygen_rep'] = 'aerobe'\n",
      "/var/folders/vx/5_3c8hlx4ysbsf6gq_jw_gc80000gn/T/ipykernel_31113/3674963623.py:45: UserWarning: This pattern has match groups. To actually get the groups, use str.extract.\n",
      "  harmonized_wide_sel_envs_df.loc[harmonized_wide_sel_envs_df['rel_to_oxygen_rep'].str.contains(anaerobe_pattern, regex=True), 'rel_to_oxygen_rep'] = 'anaerobe'\n",
      "/var/folders/vx/5_3c8hlx4ysbsf6gq_jw_gc80000gn/T/ipykernel_31113/3674963623.py:46: UserWarning: This pattern has match groups. To actually get the groups, use str.extract.\n",
      "  harmonized_wide_sel_envs_df.loc[harmonized_wide_sel_envs_df['rel_to_oxygen_rep'].str.contains(facultative_pattern, regex=True), 'rel_to_oxygen_rep'] = 'facultative'\n"
     ]
    }
   ],
   "source": [
    "import pandas as pd\n",
    "import numpy as np\n",
    "import seaborn as sns\n",
    "import matplotlib.pyplot as plt\n",
    "import sqlalchemy\n",
    "from pathlib import Path\n",
    "import re\n",
    "import nltk\n",
    "import string\n",
    "\n",
    "plt.style.use('fivethirtyeight')\n",
    "sns.set()\n",
    "sns.set_context(\"talk\")\n",
    "\n",
    "# Setup - Load the SQL extension and connect to the Mini IMDB dataset we've prepared\n",
    "db_path = Path('/Users/ryan/Downloads/biosample_basex_data_good_subset.db')\n",
    "\n",
    "engine = sqlalchemy.create_engine(f\"sqlite:///{db_path}\")\n",
    "connection = engine.connect()\n",
    "inspector = sqlalchemy.inspect(engine)\n",
    "\n",
    "query_name = \"\"\"\n",
    "SELECT *\n",
    "FROM harmonized_wide_sel_envs\n",
    "\"\"\"\n",
    "harmonized_wide_sel_envs_df = pd.read_sql(query_name, engine)\n",
    "\n",
    "aerobe_pattern = \"^[Aa]erob(ic)*(-){0}\"\n",
    "anaerobe_pattern = \"^(anaero)\"\n",
    "facultative_pattern = \"^(facultative)\"\n",
    "microaerophilic_pattern = \"microaerophilic\" #microaerophilic already looks clean\n",
    "microanaerobe_pattern = \"microanaerobe\" #None microanaerobe ?\n",
    "obligate_aerobe_pattern = \"obligate aerobe\" #None obligate aerobe ?\n",
    "obligate_anaerobe_pattern = \"^obligate anaerobe\" #already looks clean\n",
    "\n",
    "proper_values = [\"aerobe\", \"anaerobe\", \"facultative\", \"microaerophilic\", \"microanaerobe\", \"obligate aerobe\", \"obligate anaerobe\"]\n",
    "\n",
    "harmonized_wide_sel_envs_df['rel_to_oxygen_rep'] = harmonized_wide_sel_envs_df['rel_to_oxygen'].astype(str)\n",
    "harmonized_wide_sel_envs_df['rel_to_oxygen_rep_status'] = (harmonized_wide_sel_envs_df['rel_to_oxygen_rep'].isin(proper_values) == False) & (harmonized_wide_sel_envs_df['rel_to_oxygen_rep'] != \"None\")\n",
    "\n",
    "harmonized_wide_sel_envs_df['rel_to_oxygen_rep_status'] = harmonized_wide_sel_envs_df['rel_to_oxygen_rep_status'].replace(to_replace = False, value=\"Unchanged\")\n",
    "harmonized_wide_sel_envs_df['rel_to_oxygen_rep_status'] = harmonized_wide_sel_envs_df['rel_to_oxygen_rep_status'].replace(to_replace = True, value=\"Repaired\") \n",
    "\n",
    "harmonized_wide_sel_envs_df.loc[harmonized_wide_sel_envs_df['rel_to_oxygen_rep'].str.contains(aerobe_pattern, regex=True), 'rel_to_oxygen_rep'] = 'aerobe'\n",
    "harmonized_wide_sel_envs_df.loc[harmonized_wide_sel_envs_df['rel_to_oxygen_rep'].str.contains(anaerobe_pattern, regex=True), 'rel_to_oxygen_rep'] = 'anaerobe'\n",
    "harmonized_wide_sel_envs_df.loc[harmonized_wide_sel_envs_df['rel_to_oxygen_rep'].str.contains(facultative_pattern, regex=True), 'rel_to_oxygen_rep'] = 'facultative'\n",
    "harmonized_wide_sel_envs_df.loc[harmonized_wide_sel_envs_df['rel_to_oxygen_rep'].str.contains(microaerophilic_pattern, regex=True), 'rel_to_oxygen_rep'] = 'microaerophilic'\n",
    "harmonized_wide_sel_envs_df.loc[harmonized_wide_sel_envs_df['rel_to_oxygen_rep'].str.contains(microanaerobe_pattern, regex=True), 'rel_to_oxygen_rep'] = 'microanaerobe'\n",
    "harmonized_wide_sel_envs_df.loc[harmonized_wide_sel_envs_df['rel_to_oxygen_rep'].str.contains(obligate_aerobe_pattern, regex=True), 'rel_to_oxygen_rep'] = 'obligate aerobe'\n",
    "harmonized_wide_sel_envs_df.loc[harmonized_wide_sel_envs_df['rel_to_oxygen_rep'].str.contains(obligate_anaerobe_pattern, regex=True), 'rel_to_oxygen_rep'] = 'obligate anaerobe'\n",
    "\n",
    "#harmonized_wide_sel_envs_df.loc[~df[\"rel_to_oxygen_rep\"].isin(proper_values), \"rel_to_oxygen_rep\"] = None\n",
    "harmonized_wide_sel_envs_df['rel_to_oxygen_rep'] = np.where(harmonized_wide_sel_envs_df['rel_to_oxygen_rep'].isin(proper_values), harmonized_wide_sel_envs_df['rel_to_oxygen_rep'], None)\n",
    "\n",
    "harmonized_wide_sel_envs_df['air_temp'] = harmonized_wide_sel_envs_df['air_temp'].str.replace(\" degree Celsius\", \"\")\n",
    "harmonized_wide_sel_envs_df['air_temp'] = harmonized_wide_sel_envs_df['air_temp'] + \" degree Celsius\""
   ]
  },
  {
   "cell_type": "code",
   "execution_count": 2,
   "id": "1c938af1",
   "metadata": {},
   "outputs": [
    {
     "name": "stdout",
     "output_type": "stream",
     "text": [
      "rel_to_oxygen_rep Value Counts: \n"
     ]
    },
    {
     "data": {
      "text/plain": [
       "aerobe               3979\n",
       "obligate anaerobe      66\n",
       "anaerobe               47\n",
       "facultative            23\n",
       "microaerophilic        11\n",
       "Name: rel_to_oxygen_rep, dtype: int64"
      ]
     },
     "metadata": {},
     "output_type": "display_data"
    },
    {
     "name": "stdout",
     "output_type": "stream",
     "text": [
      "air_temp Value Counts: \n"
     ]
    },
    {
     "data": {
      "text/plain": [
       "-1.9 degree Celsius     12\n",
       "-1 degree Celsius       12\n",
       "-3.3 degree Celsius     11\n",
       "-10.8 degree Celsius    11\n",
       "-7.1 degree Celsius     11\n",
       "-7.7 degree Celsius      9\n",
       "-5.5 degree Celsius      6\n",
       "-14.9 degree Celsius     6\n",
       "-11.6 degree Celsius     6\n",
       "-4.9 degree Celsius      6\n",
       "-3.9 degree Celsius      6\n",
       "-6 degree Celsius        6\n",
       "-4.3 degree Celsius      6\n",
       "-16 degree Celsius       6\n",
       "-5.8 degree Celsius      6\n",
       "-2.8 degree Celsius      6\n",
       "-1.4 degree Celsius      6\n",
       "-9 degree Celsius        6\n",
       "-3.8 degree Celsius      6\n",
       "-4.5 degree Celsius      6\n",
       "-8.6 degree Celsius      6\n",
       "-11.9 degree Celsius     6\n",
       "-14 degree Celsius       6\n",
       "-13.1 degree Celsius     6\n",
       "-12.6 degree Celsius     6\n",
       "-9.7 degree Celsius      6\n",
       "-10.5 degree Celsius     6\n",
       "-6.6 degree Celsius      6\n",
       "-0.9 degree Celsius      5\n",
       "-2.4 degree Celsius      5\n",
       "-10.3 degree Celsius     5\n",
       "-1.6 degree Celsius      5\n",
       "-2.1 degree Celsius      5\n",
       "-1.8 degree Celsius      4\n",
       "-14.2 degree Celsius     4\n",
       "-5.1 degree Celsius      4\n",
       "19.5 degree Celsius      3\n",
       "-4.7 degree Celsius      3\n",
       "-0.82 degree Celsius     3\n",
       "30.6 degree Celsius      2\n",
       "27.8 degree Celsius      2\n",
       "3.5 degree Celsius       2\n",
       "-1.2 degree Celsius      2\n",
       "24.9 degree Celsius      1\n",
       "26.2 degree Celsius      1\n",
       "24.6 degree Celsius      1\n",
       "35.2 degree Celsius      1\n",
       "30.3 degree Celsius      1\n",
       "28.7 degree Celsius      1\n",
       "38.5 degree Celsius      1\n",
       "29 degree Celsius        1\n",
       "Name: air_temp, dtype: int64"
      ]
     },
     "metadata": {},
     "output_type": "display_data"
    },
    {
     "name": "stdout",
     "output_type": "stream",
     "text": [
      "air_temp Unique Values: \n"
     ]
    },
    {
     "data": {
      "text/plain": [
       "array([nan, '-10.3 degree Celsius', '-11.6 degree Celsius',\n",
       "       '-10.5 degree Celsius', '-9.7 degree Celsius',\n",
       "       '-12.6 degree Celsius', '-13.1 degree Celsius',\n",
       "       '-14 degree Celsius', '-11.9 degree Celsius',\n",
       "       '-10.8 degree Celsius', '-8.6 degree Celsius',\n",
       "       '-7.7 degree Celsius', '-4.5 degree Celsius',\n",
       "       '-3.8 degree Celsius', '-2.1 degree Celsius',\n",
       "       '-1.4 degree Celsius', '-3.3 degree Celsius',\n",
       "       '-5.8 degree Celsius', '-7.1 degree Celsius', '-16 degree Celsius',\n",
       "       '-14.2 degree Celsius', '-6 degree Celsius', '-3.9 degree Celsius',\n",
       "       '-1 degree Celsius', '-0.82 degree Celsius', '-4.9 degree Celsius',\n",
       "       '-2.8 degree Celsius', '-1.6 degree Celsius',\n",
       "       '-14.9 degree Celsius', '-1.9 degree Celsius',\n",
       "       '-6.6 degree Celsius', '-5.5 degree Celsius',\n",
       "       '-2.4 degree Celsius', '-0.9 degree Celsius',\n",
       "       '-1.2 degree Celsius', '-1.8 degree Celsius',\n",
       "       '-4.3 degree Celsius', '-5.1 degree Celsius', '-9 degree Celsius',\n",
       "       '-4.7 degree Celsius', '3.5 degree Celsius', '19.5 degree Celsius',\n",
       "       '27.8 degree Celsius', '24.9 degree Celsius',\n",
       "       '26.2 degree Celsius', '24.6 degree Celsius',\n",
       "       '35.2 degree Celsius', '30.3 degree Celsius',\n",
       "       '30.6 degree Celsius', '28.7 degree Celsius',\n",
       "       '38.5 degree Celsius', '29 degree Celsius'], dtype=object)"
      ]
     },
     "metadata": {},
     "output_type": "display_data"
    }
   ],
   "source": [
    "print(\"rel_to_oxygen_rep Value Counts: \")\n",
    "display(harmonized_wide_sel_envs_df['rel_to_oxygen_rep'].value_counts())\n",
    "print(\"air_temp Value Counts: \")\n",
    "display(harmonized_wide_sel_envs_df['air_temp'].value_counts())\n",
    "print(\"air_temp Unique Values: \")\n",
    "display(harmonized_wide_sel_envs_df['air_temp'].unique())"
   ]
  }
 ],
 "metadata": {
  "kernelspec": {
   "display_name": "Python 3 (ipykernel)",
   "language": "python",
   "name": "python3"
  },
  "language_info": {
   "codemirror_mode": {
    "name": "ipython",
    "version": 3
   },
   "file_extension": ".py",
   "mimetype": "text/x-python",
   "name": "python",
   "nbconvert_exporter": "python",
   "pygments_lexer": "ipython3",
   "version": "3.9.7"
  }
 },
 "nbformat": 4,
 "nbformat_minor": 5
}
